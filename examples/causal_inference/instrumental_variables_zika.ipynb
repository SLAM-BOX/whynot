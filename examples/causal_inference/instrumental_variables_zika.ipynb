{
 "cells": [
  {
   "cell_type": "markdown",
   "metadata": {},
   "source": [
    "## Instrumental Variables Experiment on the [Zika Simulator](https://whynot.readthedocs.io/en/latest/simulators.html#zika-simulator).\n",
    "\n",
    "In this experiment, we're interested in the effect of reducing the total mosquito population $X$ at time $t=6$ on the subsequent cumulative number of infected (symptomatic) humans $Y$ from times $t=7$ onward.\n",
    "\n",
    "However, we cannot intervene on $X$ directly, and instead we rely on an instrument, application of mosquito spray, $Z$ at times $t=5$.\n",
    "In general, $Z$ can take any value in $[0, 1]$ (it's a continuous instrument.)\n",
    "\n",
    "The confounders $C$ in this experiment are the state variables for the system at times $t < 6$. However, to block all backdoor paths from $X$ to $Y$, it suffices to only consider \n",
    "the system state at time $t=5$.\n",
    "\n",
    "Below, we show how to generate data for this experiment with WhyNot."
   ]
  },
  {
   "cell_type": "code",
   "execution_count": 17,
   "metadata": {
    "scrolled": false
   },
   "outputs": [
    {
     "name": "stdout",
     "output_type": "stream",
     "text": [
      "The autoreload extension is already loaded. To reload it, use:\n",
      "  %reload_ext autoreload\n"
     ]
    }
   ],
   "source": [
    "%load_ext autoreload\n",
    "%autoreload 2"
   ]
  },
  {
   "cell_type": "code",
   "execution_count": 25,
   "metadata": {},
   "outputs": [],
   "source": [
    "import numpy as np\n",
    "import whynot as wn\n",
    "\n",
    "from whynot.dynamics import DynamicsExperiment\n",
    "from whynot.simulators import zika"
   ]
  },
  {
   "cell_type": "markdown",
   "metadata": {},
   "source": [
    "## Set up the experiment"
   ]
  },
  {
   "cell_type": "markdown",
   "metadata": {},
   "source": [
    "\n",
    "Extending the experiment API to gracefully handle continuous instruments $Z$ and continuous treatment $X$ requires a bit more work on the backend.\n",
    "For the time being, we can use the existing API to generate data and ground truth $E[Y \\mid \\mbox{Do}(X :=x)]$ with a small amount of clunkiness.\n",
    "\n",
    "We create two experiments. \n",
    "\n",
    "- The first generates the observational dataset $(Z, C, X, Y)$ by viewing $Z$ as the ''treatment.'' variable. At present, WhyNot only supports binary treatment, so for simplicitly we consider two possible values for $Z$, $Z=0$ and $Z=1.0$, and suppose $Z$ is randomly assigned with probability $0.5$ to each unit.\n",
    "\n",
    "- The second experiment will generate the ground truth for a fixed intervention $X=x$."
   ]
  },
  {
   "cell_type": "code",
   "execution_count": 79,
   "metadata": {},
   "outputs": [],
   "source": [
    "def sample_initial_states(rng):\n",
    "    \"\"\"Sample initial state by randomly perturbing the default state.\"\"\"\n",
    "    state = zika.State().values()\n",
    "    state *= rng.uniform(low=0.95, high=1.05, size=state.shape)\n",
    "    return zika.State(*state)\n",
    "\n",
    "def outcome_extractor(run):\n",
    "    # Outcome is cumulative symptomatic patients starting 2 time steps after intervention\n",
    "    return sum(run[time].symptomatic_humans for time in range(7, 20))\n",
    "\n",
    "def covariate_builder(run):\n",
    "    \"\"\"Return the covariates for the IV experiment, in this case X and C.\"\"\"\n",
    "    # First covariate is the treatment, the mosquito population as time 6\n",
    "    # The remaining covariates are the confounders, i.e. the state of the system at time t=5.\n",
    "    return np.concatenate([[run[6].mosquito_population], run[5].values()])\n",
    "\n",
    "\n",
    "experiment = DynamicsExperiment(\n",
    "    name=\"ZikaExp\",\n",
    "    description=\"Study effect of indoor spray use on total human infections\",\n",
    "    simulator=zika,\n",
    "    simulator_config=zika.Config(start_time=0, end_time=20, delta_t=1.0),\n",
    "    intervention=zika.Intervention(time=5, stop_time=6, indoor_spray_use=1.0),\n",
    "    state_sampler=sample_initial_states,\n",
    "    propensity_scorer=0.5,\n",
    "    outcome_extractor=outcome_extractor,\n",
    "    covariate_builder=covariate_builder,\n",
    ")"
   ]
  },
  {
   "cell_type": "code",
   "execution_count": 80,
   "metadata": {},
   "outputs": [
    {
     "data": {
      "application/vnd.jupyter.widget-view+json": {
       "model_id": "40a535f1a6de452bad381bf1ea559d8d",
       "version_major": 2,
       "version_minor": 0
      },
      "text/plain": [
       "HBox(children=(FloatProgress(value=0.0, max=500.0), HTML(value='')))"
      ]
     },
     "metadata": {},
     "output_type": "display_data"
    },
    {
     "name": "stdout",
     "output_type": "stream",
     "text": [
      "\n"
     ]
    }
   ],
   "source": [
    "dataset = experiment.run(num_samples=500, show_progress=True, parallelize=True)"
   ]
  },
  {
   "cell_type": "code",
   "execution_count": 72,
   "metadata": {},
   "outputs": [],
   "source": [
    "# Construct the observational dataset\n",
    "Z = dataset.treatments\n",
    "Y = dataset.outcomes\n",
    "X = dataset.covariates[:, 0:1]   # The 'treatment' X is the first column of covariates (see the covariate_builder for this experiment)\n",
    "C = dataset.covariates[:, 1:]    # The remaining columns correspond to the confounders between X and Y"
   ]
  },
  {
   "cell_type": "markdown",
   "metadata": {},
   "source": [
    "# Compute causal estimates"
   ]
  },
  {
   "cell_type": "code",
   "execution_count": 73,
   "metadata": {},
   "outputs": [],
   "source": [
    "## TODO: Run your causal estimator here ###"
   ]
  },
  {
   "cell_type": "markdown",
   "metadata": {},
   "source": [
    "## Computing ground truth effects\n",
    "\n",
    "Warning: Given how we constructed this experiment, `np.mean(dataset.true_effects)` does *not* correspond to the true treatment effect. Rather, it corresponds to $E[Y \\mid Do(Z=1)] - E[Y \\mid Do(Z=0)]$ (since we viewed $Z$ as the assigned treatment in the `DynamicsExperiment`.\n",
    "\n",
    "Since the treatment $X$ is continuous, we don't compute treatment effects, but rather $E[Y \\mid \\mbox{Do}(X=x^\\ast)]$, using another DynamicsExperiment where $X=x^\\ast$ is the binary treatment considered."
   ]
  },
  {
   "cell_type": "code",
   "execution_count": 74,
   "metadata": {},
   "outputs": [],
   "source": [
    "def compute_true_effect(mosquito_population=1000, num_samples=500):\n",
    "    \"\"\"Mosquito population at time 6 is the treatment. Num samples is the number of monto-carlo estimators of E[Y | do(X=x)].\"\"\"\n",
    "    \n",
    "    experiment = DynamicsExperiment(\n",
    "        name=\"ZikaRCT\",\n",
    "        description=\"Study effect of mixed treatment policy on infections in 20 days.\",\n",
    "        simulator=zika,\n",
    "        simulator_config=zika.Config(start_time=0, end_time=20, delta_t=1.0),\n",
    "        \n",
    "        # Shocks are one-time interventions on the simulator state rather than changes in dynamics parameters.\n",
    "        intervention=zika.Shock(time=6, mosquito_population=mosquito_population),\n",
    "        \n",
    "        # Use the same initial state distribution, so expectations are comparable.\n",
    "        state_sampler=sample_initial_states,\n",
    "        # Always apply treatment\n",
    "        propensity_scorer=1.0,\n",
    "        # Same outcome function\n",
    "        outcome_extractor=outcome_extractor,\n",
    "        covariate_builder=covariate_builder,\n",
    "    )\n",
    "    \n",
    "    dataset = experiment.run(num_samples=num_samples, show_progress=True)\n",
    "    \n",
    "    # Since treatment is always applied, all outcomes correspond to Y_{do(X=x)}(u).\n",
    "    return np.mean(dataset.outcomes)\n",
    "    "
   ]
  },
  {
   "cell_type": "code",
   "execution_count": 75,
   "metadata": {},
   "outputs": [
    {
     "data": {
      "application/vnd.jupyter.widget-view+json": {
       "model_id": "108c943bcdf04a31b0c83f620261ecd4",
       "version_major": 2,
       "version_minor": 0
      },
      "text/plain": [
       "HBox(children=(FloatProgress(value=0.0, max=500.0), HTML(value='')))"
      ]
     },
     "metadata": {},
     "output_type": "display_data"
    },
    {
     "name": "stdout",
     "output_type": "stream",
     "text": [
      "\n"
     ]
    },
    {
     "data": {
      "text/plain": [
       "2356.9448184418707"
      ]
     },
     "execution_count": 75,
     "metadata": {},
     "output_type": "execute_result"
    }
   ],
   "source": [
    "compute_true_effect(mosquito_population=0)"
   ]
  },
  {
   "cell_type": "code",
   "execution_count": 78,
   "metadata": {},
   "outputs": [
    {
     "data": {
      "application/vnd.jupyter.widget-view+json": {
       "model_id": "f13e9f4bbfd64428a394c8afea5a30b4",
       "version_major": 2,
       "version_minor": 0
      },
      "text/plain": [
       "HBox(children=(FloatProgress(value=0.0, max=500.0), HTML(value='')))"
      ]
     },
     "metadata": {},
     "output_type": "display_data"
    },
    {
     "name": "stdout",
     "output_type": "stream",
     "text": [
      "\n"
     ]
    },
    {
     "data": {
      "text/plain": [
       "2530.2924523026004"
      ]
     },
     "execution_count": 78,
     "metadata": {},
     "output_type": "execute_result"
    }
   ],
   "source": [
    "compute_true_effect(mosquito_population=8000)"
   ]
  }
 ],
 "metadata": {
  "kernelspec": {
   "display_name": "Python 3",
   "language": "python",
   "name": "python3"
  },
  "language_info": {
   "codemirror_mode": {
    "name": "ipython",
    "version": 3
   },
   "file_extension": ".py",
   "mimetype": "text/x-python",
   "name": "python",
   "nbconvert_exporter": "python",
   "pygments_lexer": "ipython3",
   "version": "3.7.5"
  }
 },
 "nbformat": 4,
 "nbformat_minor": 2
}
